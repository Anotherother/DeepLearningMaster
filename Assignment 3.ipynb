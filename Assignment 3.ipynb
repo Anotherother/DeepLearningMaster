{
 "cells": [
  {
   "cell_type": "markdown",
   "metadata": {},
   "source": [
    "# Assignment 3\n",
    "## Attention\n",
    "\n",
    "A difficulty with feed-forward networks is that they have to compute everything at once. This is not how most programs work, most programs involve loops and control flow. Likewise, this is hardly how vision works. While humans have some ability to recognize an image without moving their gaze, they are much better at it when they can use saccades to scan the image, jumping from clue to clue.\n",
    "\n",
    "An **attention model** lets the network sequentially focus on a subset of the input, process it, and then change its focus to some other part of the input. This makes is easier to reason sequentially about the data, even if the data isn't sequential in nature.\n",
    "\n",
    "The objective of this assigment is to understand one the simplest attention models: **DRAW**. To this end, the specific points for this assignment are:\n",
    "\n",
    "+ Read (carefully) this paper: [DRAW: A Recurrent Neural Network For Image Generation](https://arxiv.org/abs/1502.04623)\n",
    "+ Look at this implementation in tf: http://blog.evjang.com/2016/06/understanding-and-implementing.html\n",
    "+ Re-code the previous implementation (in tf or keras) in order to have a clear implementation that can be used for pedagogical purposes. For example, use more data visualization, simplify the code, etc.\n",
    "+ Write a tutorial notebook (include latex formulas, figures, etc.) with your code about the DRAW paper.\n",
    "\n",
    "*Deliverable*: Notebook.\n",
    "\n",
    "*Submission date*: 21/6/2017\n",
    "\n",
    "*Scoring criteria*: the most important feature for getting a good scoring of this assignment will be the pedagogical value of your notebook."
   ]
  }
 ],
 "metadata": {
  "kernelspec": {
   "display_name": "Python 2",
   "language": "python",
   "name": "python2"
  },
  "language_info": {
   "codemirror_mode": {
    "name": "ipython",
    "version": 2
   },
   "file_extension": ".py",
   "mimetype": "text/x-python",
   "name": "python",
   "nbconvert_exporter": "python",
   "pygments_lexer": "ipython2",
   "version": "2.7.6"
  }
 },
 "nbformat": 4,
 "nbformat_minor": 1
}
